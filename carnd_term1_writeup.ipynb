{
 "cells": [
  {
   "cell_type": "markdown",
   "metadata": {},
   "source": [
    "# Finding Lane Lines on the Road"
   ]
  },
  {
   "cell_type": "markdown",
   "metadata": {},
   "source": [
    "## Overview"
   ]
  },
  {
   "cell_type": "markdown",
   "metadata": {},
   "source": [
    "In this project, I'm going to identify lane lines on the road. The lane lines could be white or yellow in color. The distance between dashed lane lines also needs to be accounted. The lane lines may have the shadow of nearby objects like trees on them.\n",
    "\n",
    "Following are some of the images used for testing the pipeline:\n",
    "<table style=\"text-align:center;font-size:11pt\">\n",
    "<tr>\n",
    "<td><img src=\"./test_images/solidWhiteCurve.jpg\" width=\"420\" alt=\"White lane lines\" style=\"display:block\"/>Img1: White lane lines</td>\n",
    "<td><img src=\"./test_images/whiteCarLaneSwitch.jpg\" width=\"420\" alt=\"Yellow lane lines\" style=\"display:block\"/>Img2: Yellow lane lines</td>\n",
    "</tr>\n",
    "<tr>\n",
    "<td><img src=\"./test_images/solidWhiteRight.jpg\" width=\"420\" alt=\"Another white lane\" style=\"display:block\"/>Img3: Another white lane</td>\n",
    "<td><img src=\"./test_images/lane_test3.jpg\" width=\"420\" alt=\"Shaded yellow lane\" style=\"display:block\"/>Img4: Shaded yellow lane</td>\n",
    "</tr>\n",
    "<tr>\n",
    "<td><img src=\"./test_images/lane_test4.jpg\" width=\"420\" alt=\"Changing road color\" style=\"display:block\"/>Img5: Changing road color</td>\n",
    "<td><img src=\"./test_images/lane_test7.jpg\" width=\"420\" alt=\"Shaded yellow lane with changing road color\" style=\"display:block\"/>Img6: Shaded yellow lane with changing road color</td>\n",
    "</tr>\n",
    "</table>"
   ]
  },
  {
   "cell_type": "markdown",
   "metadata": {},
   "source": [
    "## Pipeline Description"
   ]
  },
  {
   "cell_type": "markdown",
   "metadata": {},
   "source": [
    "The pipeline consists of 4 steps:\n",
    "1. Decide optimal color thresholds\n",
    "2. Decide region of interest\n",
    "3. Mask out unwanted colors and region\n",
    "4. Detect edges in masked image\n",
    "5. Apply Hough transform to get the lines for edges\n",
    "6. Average the lines to get two lane lines and overlay on original image"
   ]
  },
  {
   "cell_type": "markdown",
   "metadata": {},
   "source": [
    "### 1. Decide optimal color thresholds"
   ]
  },
  {
   "cell_type": "markdown",
   "metadata": {},
   "source": [
    "Color thresholds for each of red, green and blue color are decide by using the following formula:\n",
    "\\begin{equation*}\n",
    "colorThreshold = regularColorThreshold - \\frac{(regularMedianColor - imageColorMedian)}{effectFactor}\n",
    "\\end{equation*}\n",
    "Here *regularColorThreshold* is the threshold color value chosen for an image having median color equal to *regularMedianColor* approximately. *imageColorMedian* is the median of a color in current image. *effectFactor* is used to decide the effect of difference between color median of current and standard image on the regular threshold value.\n",
    "\n",
    "This formula could help to calibrate the color intensities moderately in different lighting conditions."
   ]
  },
  {
   "cell_type": "markdown",
   "metadata": {},
   "source": [
    "### 2. Decide region of interest"
   ]
  },
  {
   "cell_type": "markdown",
   "metadata": {},
   "source": [
    "Region of interest is the triangular region starting from the base of the image extending to half of the height of image. Lane lines are identified inside this region only."
   ]
  },
  {
   "cell_type": "markdown",
   "metadata": {},
   "source": [
    "### 3. Mask out unwanted colors and region"
   ]
  },
  {
   "cell_type": "markdown",
   "metadata": {},
   "source": [
    "After the color and region thresholds are decided, now is the time to mask out the unwanted colors and region. Every pixel in image which has color intensity less than threshold is made black in color. All the pixels which fall out of the region of interest are also made black.\n",
    "\n",
    "Following are the images after masking out the unwanted colors and area:\n",
    "<table style=\"text-align:center;font-size:11pt\">\n",
    "<tr>\n",
    "<td><img src=\"./test_images/solidWhiteCurve.jpg\" width=\"420\" alt=\"White lane lines\" style=\"display:block\"/>Img1: White lane lines</td>\n",
    "<td><img src=\"./test_images/whiteCarLaneSwitch.jpg\" width=\"420\" alt=\"Yellow lane lines\" style=\"display:block\"/>Img2: Yellow lane lines</td>\n",
    "</tr>\n",
    "<tr>\n",
    "<td><img src=\"./test_images/solidWhiteRight.jpg\" width=\"420\" alt=\"Another white lane\" style=\"display:block\"/>Img3: Another white lane</td>\n",
    "<td><img src=\"./test_images/lane_test3.jpg\" width=\"420\" alt=\"Shaded yellow lane\" style=\"display:block\"/>Img4: Shaded yellow lane</td>\n",
    "</tr>\n",
    "<tr>\n",
    "<td><img src=\"./test_images/lane_test4.jpg\" width=\"420\" alt=\"Changing road color\" style=\"display:block\"/>Img5: Changing road color</td>\n",
    "<td><img src=\"./test_images/lane_test7.jpg\" width=\"420\" alt=\"Shaded yellow lane with changing road color\" style=\"display:block\"/>Img6: Shaded yellow lane with changing road color</td>\n",
    "</tr>\n",
    "</table>"
   ]
  },
  {
   "cell_type": "markdown",
   "metadata": {},
   "source": []
  },
  {
   "cell_type": "markdown",
   "metadata": {},
   "source": []
  },
  {
   "cell_type": "markdown",
   "metadata": {},
   "source": []
  },
  {
   "cell_type": "markdown",
   "metadata": {},
   "source": []
  },
  {
   "cell_type": "markdown",
   "metadata": {},
   "source": []
  },
  {
   "cell_type": "markdown",
   "metadata": {},
   "source": []
  },
  {
   "cell_type": "markdown",
   "metadata": {},
   "source": []
  },
  {
   "cell_type": "markdown",
   "metadata": {},
   "source": []
  }
 ],
 "metadata": {
  "kernelspec": {
   "display_name": "Python [default]",
   "language": "python",
   "name": "python3"
  },
  "language_info": {
   "codemirror_mode": {
    "name": "ipython",
    "version": 3
   },
   "file_extension": ".py",
   "mimetype": "text/x-python",
   "name": "python",
   "nbconvert_exporter": "python",
   "pygments_lexer": "ipython3",
   "version": "3.5.2"
  },
  "widgets": {
   "state": {},
   "version": "1.1.2"
  }
 },
 "nbformat": 4,
 "nbformat_minor": 2
}
